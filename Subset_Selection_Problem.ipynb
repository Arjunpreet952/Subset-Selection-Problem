{
  "nbformat": 4,
  "nbformat_minor": 0,
  "metadata": {
    "colab": {
      "provenance": [],
      "authorship_tag": "ABX9TyPfd4uIwMpek578BFFTyB2o",
      "include_colab_link": true
    },
    "kernelspec": {
      "name": "python3",
      "display_name": "Python 3"
    },
    "language_info": {
      "name": "python"
    }
  },
  "cells": [
    {
      "cell_type": "markdown",
      "metadata": {
        "id": "view-in-github",
        "colab_type": "text"
      },
      "source": [
        "<a href=\"https://colab.research.google.com/github/Arjunpreet952/Subset-Selection-Problem/blob/main/Subset_Selection_Problem.ipynb\" target=\"_parent\"><img src=\"https://colab.research.google.com/assets/colab-badge.svg\" alt=\"Open In Colab\"/></a>"
      ]
    },
    {
      "cell_type": "markdown",
      "source": [
        ". Problem Statement:\n",
        "Find all the subsets from a set of numbers whose sum is zero.\n",
        "\n",
        "Constraint: Subset size must be 5\n",
        "Set={-12, -3, -6, 7, 2, -2, 6, 3, 9, -7, -5, -8, 1, 11, -9, -4}"
      ],
      "metadata": {
        "id": "9Ow8QzxznJZe"
      }
    },
    {
      "cell_type": "markdown",
      "source": [
        "1.1 Library inclusion"
      ],
      "metadata": {
        "id": "9OVYqZ1OnPXZ"
      }
    },
    {
      "cell_type": "code",
      "execution_count": 1,
      "metadata": {
        "id": "tJMpAHSonB0C"
      },
      "outputs": [],
      "source": [
        "import random as r"
      ]
    },
    {
      "cell_type": "markdown",
      "source": [
        "1.2 Parameter Setting"
      ],
      "metadata": {
        "id": "16nC6Z90nXOy"
      }
    },
    {
      "cell_type": "code",
      "source": [
        "Set         = set([-12, -3, -6, 7, 2, -2, 6, 3, 9, -7, -5, -8, 1, 11, -9, -4])\n",
        "SetSize     = 5\n",
        "ResultList  = set()    # Store Result List i.e. list of sets whose sum is zero\n",
        "Iterations  = 1000    # Number of Inerations"
      ],
      "metadata": {
        "id": "97I5NxednYH_"
      },
      "execution_count": 2,
      "outputs": []
    },
    {
      "cell_type": "markdown",
      "source": [
        "1.3 Start Program"
      ],
      "metadata": {
        "id": "RnfV8hk4nfLW"
      }
    },
    {
      "cell_type": "code",
      "source": [
        "# Loop till number of Iterations\n",
        "for i in range(Iterations):\n",
        "    # Select number of elements from Set\n",
        "    Chromosome= r.sample(list(Set), SetSize)\n",
        "\n",
        "    # Sum the number of elements in the Chromosome\n",
        "    if sum(Chromosome) == 0:\n",
        "        ResultList.add(tuple(Chromosome))"
      ],
      "metadata": {
        "id": "XDUCWI8wngpX"
      },
      "execution_count": 11,
      "outputs": []
    },
    {
      "cell_type": "markdown",
      "source": [
        "1.4 Print the sets and total count"
      ],
      "metadata": {
        "id": "WbA8erkxo8Ya"
      }
    },
    {
      "cell_type": "code",
      "source": [
        "# Print all the sets whose sum is zero\n",
        "for r in ResultList:\n",
        "\tprint (r)\n",
        "\n",
        "# Print total sets\n",
        "print (\"\\nTotal Sets: \", len(ResultList), \"\\n\")"
      ],
      "metadata": {
        "colab": {
          "base_uri": "https://localhost:8080/"
        },
        "id": "RoHesqMQo9Qq",
        "outputId": "3a3e185a-1e86-4da9-cd33-676d31169b05"
      },
      "execution_count": 14,
      "outputs": [
        {
          "output_type": "stream",
          "name": "stdout",
          "text": [
            "(-4, 3, 11, -8, -2)\n",
            "(-12, 2, 9, -2, 3)\n",
            "(7, -6, -5, 11, -7)\n",
            "(6, -7, 9, -5, -3)\n",
            "(7, -3, -5, -2, 3)\n",
            "(7, -12, 1, 9, -5)\n",
            "(-5, -4, 9, -7, 7)\n",
            "(7, 3, 1, -4, -7)\n",
            "(-7, 9, 7, -4, -5)\n",
            "(-5, 9, 3, -4, -3)\n",
            "(7, -8, 6, 1, -6)\n",
            "(-7, -2, -5, 3, 11)\n",
            "(-9, 3, -3, -2, 11)\n",
            "(-9, 7, -5, 11, -4)\n",
            "(-4, 6, 9, -3, -8)\n",
            "(-12, 9, 1, -5, 7)\n",
            "(-7, 7, 11, -12, 1)\n",
            "(-2, 2, 11, -4, -7)\n",
            "(6, 3, 7, -7, -9)\n",
            "(7, -9, -6, -3, 11)\n",
            "(-5, 2, 3, -6, 6)\n",
            "(2, 3, -4, -2, 1)\n",
            "(-9, 3, 7, 1, -2)\n",
            "(-2, -3, 2, 11, -8)\n",
            "(-5, 7, -4, 11, -9)\n",
            "(-4, -9, -3, 7, 9)\n",
            "(-9, 11, -7, 9, -4)\n",
            "(-8, -5, -7, 11, 9)\n",
            "(6, -3, 2, -8, 3)\n",
            "(-12, 11, 6, -6, 1)\n",
            "(6, 2, 1, -6, -3)\n",
            "\n",
            "Total Sets:  31 \n",
            "\n"
          ]
        }
      ]
    },
    {
      "cell_type": "markdown",
      "source": [
        "\n",
        "2. Problem Statement:\n",
        "Find all the subsets from a set of numbers whose sum is zero.\n",
        "\n",
        "Constraint: Subset size must be 3 to 6 only\n",
        "Set={-12, -3, -6, 7, 2, -2, 6, 3, 9, -7, -5, -8, 1, 11, -9, -4}"
      ],
      "metadata": {
        "id": "RBet9Ab1pp4u"
      }
    },
    {
      "cell_type": "code",
      "source": [
        "import random as r\n",
        "\n",
        "Set         = set([-12, -3, -6, 7, 2, -2, 6, 3, 9, -7, -5, -8, 1, 11, -9, -4])\n",
        "SetLB       = 3\n",
        "SetUB       = 6\n",
        "ResultList  = set()    # Store Result List i.e. list of sets whose sum is zero\n",
        "Iterations  = 1000   # Number of Inerations\n",
        "\n",
        "# Loop till number of Iterations\n",
        "for i in range(Iterations):\n",
        "    # Select set size randomly\n",
        "    SetSize = r.randint(SetLB,SetUB)\n",
        "\n",
        "    # Select number of elements from Set\n",
        "    Chromosome = r.sample(list(Set),SetSize)\n",
        "    Chromosome.sort()\n",
        "\n",
        "    # Sum the number of elements in the Chromosome\n",
        "    if sum(Chromosome) == 0:\n",
        "        ResultList.add(tuple(Chromosome))\n",
        "\n",
        "# Print all the sets whose sum is zero\n",
        "for r in ResultList:\n",
        "\tprint (r)\n",
        "\n",
        "# Print total sets\n",
        "print (\"\\nTotal Sets: \", len(ResultList))"
      ],
      "metadata": {
        "colab": {
          "base_uri": "https://localhost:8080/"
        },
        "id": "VlKCyL6oprCZ",
        "outputId": "f66f7f38-b4d9-4abb-ba9e-40ddbf14ff69"
      },
      "execution_count": 16,
      "outputs": [
        {
          "output_type": "stream",
          "name": "stdout",
          "text": [
            "(-9, -7, -2, 3, 6, 9)\n",
            "(-8, -4, 1, 11)\n",
            "(-7, -2, 3, 6)\n",
            "(-8, -6, 1, 6, 7)\n",
            "(-6, -2, 1, 7)\n",
            "(-8, -2, 3, 7)\n",
            "(-4, 1, 3)\n",
            "(-6, -4, 1, 2, 7)\n",
            "(-12, 1, 11)\n",
            "(-12, -3, 1, 3, 11)\n",
            "(-12, 2, 3, 7)\n",
            "(-9, -4, 2, 11)\n",
            "(-8, 1, 7)\n",
            "(-6, -3, 9)\n",
            "(-9, -8, 1, 7, 9)\n",
            "(-4, -2, 6)\n",
            "(-6, -4, -3, 2, 11)\n",
            "(-8, -5, 2, 11)\n",
            "(-9, -6, 1, 3, 11)\n",
            "(-7, 1, 6)\n",
            "(-4, -3, 7)\n",
            "(-8, -3, 11)\n",
            "(-5, -3, -2, 1, 3, 6)\n",
            "(-3, 1, 2)\n",
            "\n",
            "Total Sets:  24\n"
          ]
        }
      ]
    }
  ]
}